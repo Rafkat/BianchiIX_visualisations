{
 "cells": [
  {
   "metadata": {
    "ExecuteTime": {
     "end_time": "2024-10-22T17:04:09.644453Z",
     "start_time": "2024-10-22T17:04:09.519609Z"
    }
   },
   "cell_type": "code",
   "source": [
    "import math\n",
    "\n",
    "import pandas as pd\n",
    "import pylab as pl\n",
    "import seaborn as sns\n",
    "from matplotlib import pyplot as plt"
   ],
   "id": "9287fc273bc56fa4",
   "outputs": [],
   "execution_count": 152
  },
  {
   "metadata": {
    "ExecuteTime": {
     "end_time": "2024-10-22T17:04:09.647811Z",
     "start_time": "2024-10-22T17:04:09.645312Z"
    }
   },
   "cell_type": "code",
   "source": "sns.set(rc={'axes.facecolor': 'white'})",
   "id": "6f96ad853c1db583",
   "outputs": [],
   "execution_count": 153
  },
  {
   "metadata": {
    "ExecuteTime": {
     "end_time": "2024-10-22T17:04:09.653678Z",
     "start_time": "2024-10-22T17:04:09.648726Z"
    }
   },
   "cell_type": "code",
   "source": [
    "df_bI_upside_from_bV = pd.read_csv('bianchiI_isotropic_eta_0.018000_omega_2_0.000000_1000p_upside_from_bV.txt', sep=\" \", header=None)\n",
    "df_bI_upside_from_bV.columns = ['x', 'a', 'da', 'phi']\n",
    "df_bI_upside_from_bV['da/a'] = df_bI_upside_from_bV['da'] / df_bI_upside_from_bV['a']\n",
    "df_bI_upside_from_bV['x'] = df_bI_upside_from_bV['x'] + 3.2878\n",
    "df_bI_upside_from_bV['da/a'].max()"
   ],
   "id": "576acd50da27b0e6",
   "outputs": [
    {
     "data": {
      "text/plain": [
       "np.float64(2.4845332472408557)"
      ]
     },
     "execution_count": 154,
     "metadata": {},
     "output_type": "execute_result"
    }
   ],
   "execution_count": 154
  },
  {
   "metadata": {
    "ExecuteTime": {
     "end_time": "2024-10-22T17:04:09.658344Z",
     "start_time": "2024-10-22T17:04:09.654417Z"
    }
   },
   "cell_type": "code",
   "source": [
    "df_bV_upside = pd.read_csv('bianchiV_isotropic_eta_0.018000_omega_2_0.000010_1000p_upside.txt', sep=\" \", header=None)\n",
    "df_bV_upside.columns = ['x', 'a', 'da', 'phi']\n",
    "df_bV_upside['da/a'] = df_bV_upside['da'] / df_bV_upside['a']\n",
    "df_bV_upside['x'] = df_bV_upside['x'] + 3.2878\n",
    "df_bV_upside[(df_bV_upside['x'] < 2.5) & (df_bV_upside['x'] > 2.0)]['da/a'].max()"
   ],
   "id": "1f1e38045d16e4b4",
   "outputs": [
    {
     "data": {
      "text/plain": [
       "np.float64(2.4847558167382053)"
      ]
     },
     "execution_count": 155,
     "metadata": {},
     "output_type": "execute_result"
    }
   ],
   "execution_count": 155
  },
  {
   "metadata": {
    "ExecuteTime": {
     "end_time": "2024-10-22T17:04:09.662279Z",
     "start_time": "2024-10-22T17:04:09.658801Z"
    }
   },
   "cell_type": "code",
   "source": [
    "df_bIX_upside = pd.read_csv('bianchiIX_isotropic_eta_0.018000_omega_2_0.000010_1000p_upside.txt', sep=\" \", header=None)\n",
    "df_bIX_upside.columns = ['x', 'a', 'da', 'phi']\n",
    "df_bIX_upside['da/a'] = df_bIX_upside['da'] / df_bIX_upside['a']\n",
    "df_bIX_upside['x'] = df_bIX_upside['x'] + 3.2878 \n",
    "df_bIX_upside['da/a'].max()"
   ],
   "id": "b0d3b71cf802f7b3",
   "outputs": [
    {
     "data": {
      "text/plain": [
       "np.float64(2.484935226817433)"
      ]
     },
     "execution_count": 156,
     "metadata": {},
     "output_type": "execute_result"
    }
   ],
   "execution_count": 156
  },
  {
   "metadata": {
    "ExecuteTime": {
     "end_time": "2024-10-22T17:13:07.477272Z",
     "start_time": "2024-10-22T17:13:07.376141Z"
    }
   },
   "cell_type": "code",
   "source": [
    "fig, ax = plt.subplots()\n",
    "sns.lineplot(x='x', y='da/a', data=df_bIX_upside, ax=ax, label='Bianchi IX')\n",
    "sns.lineplot(x='x', y='da/a', data=df_bV_upside, ax=ax, label='Bianchi V')\n",
    "sns.lineplot(x='x', y='da/a', data=df_bI_upside_from_bV, ax=ax, label='Bianchi I')\n",
    "ax.legend()\n",
    "ax.set_ylabel(r\"$\\frac{H}{H_0}$\", rotation=0)\n",
    "ax.set_xlabel(r\"$(t-t_0)H_0$\")\n",
    "plt.xlim([0, 10])\n",
    "plt.ylim([0, 5])"
   ],
   "id": "b201b2f4e1d994b8",
   "outputs": [
    {
     "data": {
      "text/plain": [
       "(0.0, 5.0)"
      ]
     },
     "execution_count": 181,
     "metadata": {},
     "output_type": "execute_result"
    },
    {
     "data": {
      "text/plain": [
       "<Figure size 640x480 with 1 Axes>"
      ],
      "image/png": "[encoded data removed]"
     },
     "metadata": {},
     "output_type": "display_data"
    }
   ],
   "execution_count": 181
  },
  {
   "metadata": {
    "ExecuteTime": {
     "end_time": "2024-10-22T17:04:09.900738Z",
     "start_time": "2024-10-22T17:04:09.894105Z"
    }
   },
   "cell_type": "code",
   "source": [
    "df_bI_upside_a_from_bV = pd.read_csv('bianchiI_anisotropic_eta_0.018000_omega_2_0.000000_s_0.000000_1000p_upside_from_bV.txt', sep=\" \", header=None)\n",
    "df_bI_upside_a_from_bV.columns = ['x', 'a', 'da', 'phi', 's']\n",
    "df_bI_upside_a_from_bV['da/a'] = df_bI_upside_a_from_bV['da'] / df_bI_upside_a_from_bV['a']\n",
    "df_bI_upside_a_from_bV['x'] = df_bI_upside_a_from_bV['x'] + 3.2896\n",
    "df_bI_upside_a_from_bV"
   ],
   "id": "562afd3df6f29e73",
   "outputs": [
    {
     "data": {
      "text/plain": [
       "             x         a        da       phi             s      da/a\n",
       "0      0.00000  0.000367  0.000913  23.44910  7.299210e-17  2.484519\n",
       "1      0.00329  0.000370  0.000920  23.42460  7.480290e-17  2.484523\n",
       "2      0.00658  0.000373  0.000928  23.40000  7.665690e-17  2.484523\n",
       "3      0.00987  0.000377  0.000936  23.37550  7.855560e-17  2.484522\n",
       "4      0.01316  0.000380  0.000943  23.35100  8.050040e-17  2.484522\n",
       "...        ...       ...       ...       ...           ...       ...\n",
       "1996  25.60000  4.123970  0.060762  -4.93379  2.146270e-09  0.014734\n",
       "1997  25.62240  4.125330  0.060722  -4.93478  2.144150e-09  0.014719\n",
       "1998  25.64480  4.126690  0.060682  -4.93577  2.142030e-09  0.014705\n",
       "1999  25.66720  4.128050  0.060643  -4.93675  2.139910e-09  0.014690\n",
       "2000  25.68960  4.129410  0.060603  -4.93774  2.137800e-09  0.014676\n",
       "\n",
       "[2001 rows x 6 columns]"
      ],
      "text/html": [
       "<div>\n",
       "<style scoped>\n",
       "    .dataframe tbody tr th:only-of-type {\n",
       "        vertical-align: middle;\n",
       "    }\n",
       "\n",
       "    .dataframe tbody tr th {\n",
       "        vertical-align: top;\n",
       "    }\n",
       "\n",
       "    .dataframe thead th {\n",
       "        text-align: right;\n",
       "    }\n",
       "</style>\n",
       "<table border=\"1\" class=\"dataframe\">\n",
       "  <thead>\n",
       "    <tr style=\"text-align: right;\">\n",
       "      <th></th>\n",
       "      <th>x</th>\n",
       "      <th>a</th>\n",
       "      <th>da</th>\n",
       "      <th>phi</th>\n",
       "      <th>s</th>\n",
       "      <th>da/a</th>\n",
       "    </tr>\n",
       "  </thead>\n",
       "  <tbody>\n",
       "    <tr>\n",
       "      <th>0</th>\n",
       "      <td>0.00000</td>\n",
       "      <td>0.000367</td>\n",
       "      <td>0.000913</td>\n",
       "      <td>23.44910</td>\n",
       "      <td>7.299210e-17</td>\n",
       "      <td>2.484519</td>\n",
       "    </tr>\n",
       "    <tr>\n",
       "      <th>1</th>\n",
       "      <td>0.00329</td>\n",
       "      <td>0.000370</td>\n",
       "      <td>0.000920</td>\n",
       "      <td>23.42460</td>\n",
       "      <td>7.480290e-17</td>\n",
       "      <td>2.484523</td>\n",
       "    </tr>\n",
       "    <tr>\n",
       "      <th>2</th>\n",
       "      <td>0.00658</td>\n",
       "      <td>0.000373</td>\n",
       "      <td>0.000928</td>\n",
       "      <td>23.40000</td>\n",
       "      <td>7.665690e-17</td>\n",
       "      <td>2.484523</td>\n",
       "    </tr>\n",
       "    <tr>\n",
       "      <th>3</th>\n",
       "      <td>0.00987</td>\n",
       "      <td>0.000377</td>\n",
       "      <td>0.000936</td>\n",
       "      <td>23.37550</td>\n",
       "      <td>7.855560e-17</td>\n",
       "      <td>2.484522</td>\n",
       "    </tr>\n",
       "    <tr>\n",
       "      <th>4</th>\n",
       "      <td>0.01316</td>\n",
       "      <td>0.000380</td>\n",
       "      <td>0.000943</td>\n",
       "      <td>23.35100</td>\n",
       "      <td>8.050040e-17</td>\n",
       "      <td>2.484522</td>\n",
       "    </tr>\n",
       "    <tr>\n",
       "      <th>...</th>\n",
       "      <td>...</td>\n",
       "      <td>...</td>\n",
       "      <td>...</td>\n",
       "      <td>...</td>\n",
       "      <td>...</td>\n",
       "      <td>...</td>\n",
       "    </tr>\n",
       "    <tr>\n",
       "      <th>1996</th>\n",
       "      <td>25.60000</td>\n",
       "      <td>4.123970</td>\n",
       "      <td>0.060762</td>\n",
       "      <td>-4.93379</td>\n",
       "      <td>2.146270e-09</td>\n",
       "      <td>0.014734</td>\n",
       "    </tr>\n",
       "    <tr>\n",
       "      <th>1997</th>\n",
       "      <td>25.62240</td>\n",
       "      <td>4.125330</td>\n",
       "      <td>0.060722</td>\n",
       "      <td>-4.93478</td>\n",
       "      <td>2.144150e-09</td>\n",
       "      <td>0.014719</td>\n",
       "    </tr>\n",
       "    <tr>\n",
       "      <th>1998</th>\n",
       "      <td>25.64480</td>\n",
       "      <td>4.126690</td>\n",
       "      <td>0.060682</td>\n",
       "      <td>-4.93577</td>\n",
       "      <td>2.142030e-09</td>\n",
       "      <td>0.014705</td>\n",
       "    </tr>\n",
       "    <tr>\n",
       "      <th>1999</th>\n",
       "      <td>25.66720</td>\n",
       "      <td>4.128050</td>\n",
       "      <td>0.060643</td>\n",
       "      <td>-4.93675</td>\n",
       "      <td>2.139910e-09</td>\n",
       "      <td>0.014690</td>\n",
       "    </tr>\n",
       "    <tr>\n",
       "      <th>2000</th>\n",
       "      <td>25.68960</td>\n",
       "      <td>4.129410</td>\n",
       "      <td>0.060603</td>\n",
       "      <td>-4.93774</td>\n",
       "      <td>2.137800e-09</td>\n",
       "      <td>0.014676</td>\n",
       "    </tr>\n",
       "  </tbody>\n",
       "</table>\n",
       "<p>2001 rows × 6 columns</p>\n",
       "</div>"
      ]
     },
     "execution_count": 158,
     "metadata": {},
     "output_type": "execute_result"
    }
   ],
   "execution_count": 158
  },
  {
   "metadata": {
    "ExecuteTime": {
     "end_time": "2024-10-22T17:04:09.907315Z",
     "start_time": "2024-10-22T17:04:09.901279Z"
    }
   },
   "cell_type": "code",
   "source": [
    "df_bV_upside_a = pd.read_csv('bianchiV_anisotropic_eta_0.018000_omega_2_0.000010_s_0.000000_1000p_upside.txt', sep=\" \", header=None)\n",
    "df_bV_upside_a.columns = ['x', 'a', 'da', 'phi', 's']\n",
    "df_bV_upside_a['da/a'] = df_bV_upside_a['da'] / df_bV_upside_a['a']\n",
    "df_bV_upside_a['x'] = df_bV_upside_a['x'] + 3.2896\n",
    "df_bV_upside_a"
   ],
   "id": "f10e73cafffb3257",
   "outputs": [
    {
     "data": {
      "text/plain": [
       "             x             a        da       phi             s           da/a\n",
       "0      0.00000  5.706980e-09  0.001826  33.13540  5.928010e-11  319913.509422\n",
       "1      0.00329  6.011730e-06  0.001826  26.17550  5.628250e-14     303.706254\n",
       "2      0.00658  1.201820e-05  0.001826  25.48260  2.816500e-14     151.935398\n",
       "3      0.00987  1.802540e-05  0.001826  25.07690  1.879110e-14     101.317585\n",
       "4      0.01316  2.403380e-05  0.001827  24.78880  1.410660e-14      76.006291\n",
       "...        ...           ...       ...       ...           ...            ...\n",
       "1996  25.60000  4.124760e+00  0.060821  -4.93437  2.145030e-09       0.014745\n",
       "1997  25.62240  4.126120e+00  0.060781  -4.93536  2.142910e-09       0.014731\n",
       "1998  25.64480  4.127480e+00  0.060741  -4.93635  2.140790e-09       0.014716\n",
       "1999  25.66720  4.128840e+00  0.060701  -4.93734  2.138680e-09       0.014702\n",
       "2000  25.68960  4.130200e+00  0.060661  -4.93832  2.136570e-09       0.014687\n",
       "\n",
       "[2001 rows x 6 columns]"
      ],
      "text/html": [
       "<div>\n",
       "<style scoped>\n",
       "    .dataframe tbody tr th:only-of-type {\n",
       "        vertical-align: middle;\n",
       "    }\n",
       "\n",
       "    .dataframe tbody tr th {\n",
       "        vertical-align: top;\n",
       "    }\n",
       "\n",
       "    .dataframe thead th {\n",
       "        text-align: right;\n",
       "    }\n",
       "</style>\n",
       "<table border=\"1\" class=\"dataframe\">\n",
       "  <thead>\n",
       "    <tr style=\"text-align: right;\">\n",
       "      <th></th>\n",
       "      <th>x</th>\n",
       "      <th>a</th>\n",
       "      <th>da</th>\n",
       "      <th>phi</th>\n",
       "      <th>s</th>\n",
       "      <th>da/a</th>\n",
       "    </tr>\n",
       "  </thead>\n",
       "  <tbody>\n",
       "    <tr>\n",
       "      <th>0</th>\n",
       "      <td>0.00000</td>\n",
       "      <td>5.706980e-09</td>\n",
       "      <td>0.001826</td>\n",
       "      <td>33.13540</td>\n",
       "      <td>5.928010e-11</td>\n",
       "      <td>319913.509422</td>\n",
       "    </tr>\n",
       "    <tr>\n",
       "      <th>1</th>\n",
       "      <td>0.00329</td>\n",
       "      <td>6.011730e-06</td>\n",
       "      <td>0.001826</td>\n",
       "      <td>26.17550</td>\n",
       "      <td>5.628250e-14</td>\n",
       "      <td>303.706254</td>\n",
       "    </tr>\n",
       "    <tr>\n",
       "      <th>2</th>\n",
       "      <td>0.00658</td>\n",
       "      <td>1.201820e-05</td>\n",
       "      <td>0.001826</td>\n",
       "      <td>25.48260</td>\n",
       "      <td>2.816500e-14</td>\n",
       "      <td>151.935398</td>\n",
       "    </tr>\n",
       "    <tr>\n",
       "      <th>3</th>\n",
       "      <td>0.00987</td>\n",
       "      <td>1.802540e-05</td>\n",
       "      <td>0.001826</td>\n",
       "      <td>25.07690</td>\n",
       "      <td>1.879110e-14</td>\n",
       "      <td>101.317585</td>\n",
       "    </tr>\n",
       "    <tr>\n",
       "      <th>4</th>\n",
       "      <td>0.01316</td>\n",
       "      <td>2.403380e-05</td>\n",
       "      <td>0.001827</td>\n",
       "      <td>24.78880</td>\n",
       "      <td>1.410660e-14</td>\n",
       "      <td>76.006291</td>\n",
       "    </tr>\n",
       "    <tr>\n",
       "      <th>...</th>\n",
       "      <td>...</td>\n",
       "      <td>...</td>\n",
       "      <td>...</td>\n",
       "      <td>...</td>\n",
       "      <td>...</td>\n",
       "      <td>...</td>\n",
       "    </tr>\n",
       "    <tr>\n",
       "      <th>1996</th>\n",
       "      <td>25.60000</td>\n",
       "      <td>4.124760e+00</td>\n",
       "      <td>0.060821</td>\n",
       "      <td>-4.93437</td>\n",
       "      <td>2.145030e-09</td>\n",
       "      <td>0.014745</td>\n",
       "    </tr>\n",
       "    <tr>\n",
       "      <th>1997</th>\n",
       "      <td>25.62240</td>\n",
       "      <td>4.126120e+00</td>\n",
       "      <td>0.060781</td>\n",
       "      <td>-4.93536</td>\n",
       "      <td>2.142910e-09</td>\n",
       "      <td>0.014731</td>\n",
       "    </tr>\n",
       "    <tr>\n",
       "      <th>1998</th>\n",
       "      <td>25.64480</td>\n",
       "      <td>4.127480e+00</td>\n",
       "      <td>0.060741</td>\n",
       "      <td>-4.93635</td>\n",
       "      <td>2.140790e-09</td>\n",
       "      <td>0.014716</td>\n",
       "    </tr>\n",
       "    <tr>\n",
       "      <th>1999</th>\n",
       "      <td>25.66720</td>\n",
       "      <td>4.128840e+00</td>\n",
       "      <td>0.060701</td>\n",
       "      <td>-4.93734</td>\n",
       "      <td>2.138680e-09</td>\n",
       "      <td>0.014702</td>\n",
       "    </tr>\n",
       "    <tr>\n",
       "      <th>2000</th>\n",
       "      <td>25.68960</td>\n",
       "      <td>4.130200e+00</td>\n",
       "      <td>0.060661</td>\n",
       "      <td>-4.93832</td>\n",
       "      <td>2.136570e-09</td>\n",
       "      <td>0.014687</td>\n",
       "    </tr>\n",
       "  </tbody>\n",
       "</table>\n",
       "<p>2001 rows × 6 columns</p>\n",
       "</div>"
      ]
     },
     "execution_count": 159,
     "metadata": {},
     "output_type": "execute_result"
    }
   ],
   "execution_count": 159
  },
  {
   "metadata": {
    "ExecuteTime": {
     "end_time": "2024-10-22T17:04:09.914972Z",
     "start_time": "2024-10-22T17:04:09.907809Z"
    }
   },
   "cell_type": "code",
   "source": [
    "df_bIX_upside_a = pd.read_csv('bianchiIX_anisotropic_eta_0.018000_omega_2_0.000010_dbp_0.000000_dbm_0.000000_bp_0.000000_bm_0.000000_1000p_upside.txt', sep=\" \", header=None)\n",
    "df_bIX_upside_a.columns = ['x', 'a', 'da', 'phi', 'dbp', 'dbm', 'bp', 'bm']\n",
    "df_bIX_upside_a['da/a'] = df_bIX_upside_a['da'] / df_bIX_upside_a['a']\n",
    "df_bIX_upside_a['x'] = df_bIX_upside_a['x'] + 3.42122\n",
    "df_bIX_upside_a"
   ],
   "id": "b2b6b52d89133bd1",
   "outputs": [
    {
     "data": {
      "text/plain": [
       "             x         a            da      phi           dbp           dbm  \\\n",
       "0      0.00000  0.000735  1.741260e-09  57.5651  1.875060e-11 -7.499850e-11   \n",
       "1      0.00342  0.000735  1.550920e-05  30.9061  1.603590e-07  1.603370e-07   \n",
       "2      0.00684  0.000735  3.102320e-05  29.5190  3.198020e-07  3.197990e-07   \n",
       "3      0.01027  0.000735  4.653080e-05  28.7075  4.773500e-07  4.773340e-07   \n",
       "4      0.01369  0.000735  6.203070e-05  28.1316  6.322280e-07  6.322240e-07   \n",
       "...        ...       ...           ...      ...           ...           ...   \n",
       "1996  23.12582  0.000759 -4.639570e-04  24.0427  1.359880e-05  1.359950e-05   \n",
       "1997  23.14552  0.000750 -3.748760e-04  24.4884  1.275300e-05  1.275370e-05   \n",
       "1998  23.16532  0.000744 -2.859140e-04  25.0472  1.111590e-05  1.111660e-05   \n",
       "1999  23.18512  0.000739 -1.968670e-04  25.8076  8.567160e-06  8.567760e-06   \n",
       "2000  23.20492  0.000736 -1.075760e-04  27.0268  5.091040e-06  5.091420e-06   \n",
       "\n",
       "                bp            bm      da/a  \n",
       "0    -9.507650e-07 -9.507590e-07  0.000002  \n",
       "1    -9.504910e-07 -9.504850e-07  0.021105  \n",
       "2    -9.496690e-07 -9.496630e-07  0.042211  \n",
       "3    -9.483050e-07 -9.482990e-07  0.063300  \n",
       "4    -9.464060e-07 -9.464000e-07  0.084364  \n",
       "...            ...           ...       ...  \n",
       "1996  3.644540e-06  3.644630e-06 -0.611479  \n",
       "1997  3.906390e-06  3.906490e-06 -0.499536  \n",
       "1998  4.143920e-06  4.144040e-06 -0.384338  \n",
       "1999  4.340180e-06  4.340310e-06 -0.266347  \n",
       "2000  4.476740e-06  4.476880e-06 -0.146138  \n",
       "\n",
       "[2001 rows x 9 columns]"
      ],
      "text/html": [
       "<div>\n",
       "<style scoped>\n",
       "    .dataframe tbody tr th:only-of-type {\n",
       "        vertical-align: middle;\n",
       "    }\n",
       "\n",
       "    .dataframe tbody tr th {\n",
       "        vertical-align: top;\n",
       "    }\n",
       "\n",
       "    .dataframe thead th {\n",
       "        text-align: right;\n",
       "    }\n",
       "</style>\n",
       "<table border=\"1\" class=\"dataframe\">\n",
       "  <thead>\n",
       "    <tr style=\"text-align: right;\">\n",
       "      <th></th>\n",
       "      <th>x</th>\n",
       "      <th>a</th>\n",
       "      <th>da</th>\n",
       "      <th>phi</th>\n",
       "      <th>dbp</th>\n",
       "      <th>dbm</th>\n",
       "      <th>bp</th>\n",
       "      <th>bm</th>\n",
       "      <th>da/a</th>\n",
       "    </tr>\n",
       "  </thead>\n",
       "  <tbody>\n",
       "    <tr>\n",
       "      <th>0</th>\n",
       "      <td>0.00000</td>\n",
       "      <td>0.000735</td>\n",
       "      <td>1.741260e-09</td>\n",
       "      <td>57.5651</td>\n",
       "      <td>1.875060e-11</td>\n",
       "      <td>-7.499850e-11</td>\n",
       "      <td>-9.507650e-07</td>\n",
       "      <td>-9.507590e-07</td>\n",
       "      <td>0.000002</td>\n",
       "    </tr>\n",
       "    <tr>\n",
       "      <th>1</th>\n",
       "      <td>0.00342</td>\n",
       "      <td>0.000735</td>\n",
       "      <td>1.550920e-05</td>\n",
       "      <td>30.9061</td>\n",
       "      <td>1.603590e-07</td>\n",
       "      <td>1.603370e-07</td>\n",
       "      <td>-9.504910e-07</td>\n",
       "      <td>-9.504850e-07</td>\n",
       "      <td>0.021105</td>\n",
       "    </tr>\n",
       "    <tr>\n",
       "      <th>2</th>\n",
       "      <td>0.00684</td>\n",
       "      <td>0.000735</td>\n",
       "      <td>3.102320e-05</td>\n",
       "      <td>29.5190</td>\n",
       "      <td>3.198020e-07</td>\n",
       "      <td>3.197990e-07</td>\n",
       "      <td>-9.496690e-07</td>\n",
       "      <td>-9.496630e-07</td>\n",
       "      <td>0.042211</td>\n",
       "    </tr>\n",
       "    <tr>\n",
       "      <th>3</th>\n",
       "      <td>0.01027</td>\n",
       "      <td>0.000735</td>\n",
       "      <td>4.653080e-05</td>\n",
       "      <td>28.7075</td>\n",
       "      <td>4.773500e-07</td>\n",
       "      <td>4.773340e-07</td>\n",
       "      <td>-9.483050e-07</td>\n",
       "      <td>-9.482990e-07</td>\n",
       "      <td>0.063300</td>\n",
       "    </tr>\n",
       "    <tr>\n",
       "      <th>4</th>\n",
       "      <td>0.01369</td>\n",
       "      <td>0.000735</td>\n",
       "      <td>6.203070e-05</td>\n",
       "      <td>28.1316</td>\n",
       "      <td>6.322280e-07</td>\n",
       "      <td>6.322240e-07</td>\n",
       "      <td>-9.464060e-07</td>\n",
       "      <td>-9.464000e-07</td>\n",
       "      <td>0.084364</td>\n",
       "    </tr>\n",
       "    <tr>\n",
       "      <th>...</th>\n",
       "      <td>...</td>\n",
       "      <td>...</td>\n",
       "      <td>...</td>\n",
       "      <td>...</td>\n",
       "      <td>...</td>\n",
       "      <td>...</td>\n",
       "      <td>...</td>\n",
       "      <td>...</td>\n",
       "      <td>...</td>\n",
       "    </tr>\n",
       "    <tr>\n",
       "      <th>1996</th>\n",
       "      <td>23.12582</td>\n",
       "      <td>0.000759</td>\n",
       "      <td>-4.639570e-04</td>\n",
       "      <td>24.0427</td>\n",
       "      <td>1.359880e-05</td>\n",
       "      <td>1.359950e-05</td>\n",
       "      <td>3.644540e-06</td>\n",
       "      <td>3.644630e-06</td>\n",
       "      <td>-0.611479</td>\n",
       "    </tr>\n",
       "    <tr>\n",
       "      <th>1997</th>\n",
       "      <td>23.14552</td>\n",
       "      <td>0.000750</td>\n",
       "      <td>-3.748760e-04</td>\n",
       "      <td>24.4884</td>\n",
       "      <td>1.275300e-05</td>\n",
       "      <td>1.275370e-05</td>\n",
       "      <td>3.906390e-06</td>\n",
       "      <td>3.906490e-06</td>\n",
       "      <td>-0.499536</td>\n",
       "    </tr>\n",
       "    <tr>\n",
       "      <th>1998</th>\n",
       "      <td>23.16532</td>\n",
       "      <td>0.000744</td>\n",
       "      <td>-2.859140e-04</td>\n",
       "      <td>25.0472</td>\n",
       "      <td>1.111590e-05</td>\n",
       "      <td>1.111660e-05</td>\n",
       "      <td>4.143920e-06</td>\n",
       "      <td>4.144040e-06</td>\n",
       "      <td>-0.384338</td>\n",
       "    </tr>\n",
       "    <tr>\n",
       "      <th>1999</th>\n",
       "      <td>23.18512</td>\n",
       "      <td>0.000739</td>\n",
       "      <td>-1.968670e-04</td>\n",
       "      <td>25.8076</td>\n",
       "      <td>8.567160e-06</td>\n",
       "      <td>8.567760e-06</td>\n",
       "      <td>4.340180e-06</td>\n",
       "      <td>4.340310e-06</td>\n",
       "      <td>-0.266347</td>\n",
       "    </tr>\n",
       "    <tr>\n",
       "      <th>2000</th>\n",
       "      <td>23.20492</td>\n",
       "      <td>0.000736</td>\n",
       "      <td>-1.075760e-04</td>\n",
       "      <td>27.0268</td>\n",
       "      <td>5.091040e-06</td>\n",
       "      <td>5.091420e-06</td>\n",
       "      <td>4.476740e-06</td>\n",
       "      <td>4.476880e-06</td>\n",
       "      <td>-0.146138</td>\n",
       "    </tr>\n",
       "  </tbody>\n",
       "</table>\n",
       "<p>2001 rows × 9 columns</p>\n",
       "</div>"
      ]
     },
     "execution_count": 160,
     "metadata": {},
     "output_type": "execute_result"
    }
   ],
   "execution_count": 160
  },
  {
   "metadata": {
    "ExecuteTime": {
     "end_time": "2024-10-22T17:04:09.919200Z",
     "start_time": "2024-10-22T17:04:09.916003Z"
    }
   },
   "cell_type": "code",
   "source": [
    "df_bIX_downside_a = pd.read_csv('bianchiIX_anisotropic_eta_0.018000_omega_2_0.000010_dbp_0.000000_dbm_0.000000_bp_0.000000_bm_0.000000_1000p_downside.txt', sep=\" \", header=None)\n",
    "df_bIX_downside_a.columns = ['x', 'a', 'da', 'phi', 'dbp', 'dbm', 'bp', 'bm']\n",
    "df_bIX_downside_a['da/a'] = df_bIX_downside_a['da'] / df_bIX_downside_a['a']\n",
    "df_bIX_downside_a['x'] = df_bIX_downside_a['x'] - 3.42122"
   ],
   "id": "f647d762ad5e1b2a",
   "outputs": [],
   "execution_count": 161
  },
  {
   "metadata": {
    "ExecuteTime": {
     "end_time": "2024-10-22T17:04:09.925050Z",
     "start_time": "2024-10-22T17:04:09.919712Z"
    }
   },
   "cell_type": "code",
   "source": [
    "df_bIX_merged_a = pd.concat([df_bIX_downside_a, df_bIX_upside_a], axis=0)\n",
    "df_bIX_merged_a.reset_index(drop=True, inplace=True)\n",
    "df_bIX_merged_a"
   ],
   "id": "46f330ef6472fc4e",
   "outputs": [
    {
     "data": {
      "text/plain": [
       "             x         a        da      phi       dbp       dbm        bp  \\\n",
       "0    -23.20492  0.000736  0.000108  27.0268  0.000005  0.000005 -0.000004   \n",
       "1    -23.18512  0.000739  0.000197  25.8076  0.000009  0.000009 -0.000004   \n",
       "2    -23.16532  0.000744  0.000286  25.0472  0.000011  0.000011 -0.000004   \n",
       "3    -23.14552  0.000750  0.000375  24.4884  0.000013  0.000013 -0.000004   \n",
       "4    -23.12582  0.000759  0.000464  24.0427  0.000014  0.000014 -0.000004   \n",
       "...        ...       ...       ...      ...       ...       ...       ...   \n",
       "3997  23.12582  0.000759 -0.000464  24.0427  0.000014  0.000014  0.000004   \n",
       "3998  23.14552  0.000750 -0.000375  24.4884  0.000013  0.000013  0.000004   \n",
       "3999  23.16532  0.000744 -0.000286  25.0472  0.000011  0.000011  0.000004   \n",
       "4000  23.18512  0.000739 -0.000197  25.8076  0.000009  0.000009  0.000004   \n",
       "4001  23.20492  0.000736 -0.000108  27.0268  0.000005  0.000005  0.000004   \n",
       "\n",
       "            bm      da/a  \n",
       "0    -0.000004  0.146138  \n",
       "1    -0.000004  0.266347  \n",
       "2    -0.000004  0.384338  \n",
       "3    -0.000004  0.499536  \n",
       "4    -0.000004  0.611479  \n",
       "...        ...       ...  \n",
       "3997  0.000004 -0.611479  \n",
       "3998  0.000004 -0.499536  \n",
       "3999  0.000004 -0.384338  \n",
       "4000  0.000004 -0.266347  \n",
       "4001  0.000004 -0.146138  \n",
       "\n",
       "[4002 rows x 9 columns]"
      ],
      "text/html": [
       "<div>\n",
       "<style scoped>\n",
       "    .dataframe tbody tr th:only-of-type {\n",
       "        vertical-align: middle;\n",
       "    }\n",
       "\n",
       "    .dataframe tbody tr th {\n",
       "        vertical-align: top;\n",
       "    }\n",
       "\n",
       "    .dataframe thead th {\n",
       "        text-align: right;\n",
       "    }\n",
       "</style>\n",
       "<table border=\"1\" class=\"dataframe\">\n",
       "  <thead>\n",
       "    <tr style=\"text-align: right;\">\n",
       "      <th></th>\n",
       "      <th>x</th>\n",
       "      <th>a</th>\n",
       "      <th>da</th>\n",
       "      <th>phi</th>\n",
       "      <th>dbp</th>\n",
       "      <th>dbm</th>\n",
       "      <th>bp</th>\n",
       "      <th>bm</th>\n",
       "      <th>da/a</th>\n",
       "    </tr>\n",
       "  </thead>\n",
       "  <tbody>\n",
       "    <tr>\n",
       "      <th>0</th>\n",
       "      <td>-23.20492</td>\n",
       "      <td>0.000736</td>\n",
       "      <td>0.000108</td>\n",
       "      <td>27.0268</td>\n",
       "      <td>0.000005</td>\n",
       "      <td>0.000005</td>\n",
       "      <td>-0.000004</td>\n",
       "      <td>-0.000004</td>\n",
       "      <td>0.146138</td>\n",
       "    </tr>\n",
       "    <tr>\n",
       "      <th>1</th>\n",
       "      <td>-23.18512</td>\n",
       "      <td>0.000739</td>\n",
       "      <td>0.000197</td>\n",
       "      <td>25.8076</td>\n",
       "      <td>0.000009</td>\n",
       "      <td>0.000009</td>\n",
       "      <td>-0.000004</td>\n",
       "      <td>-0.000004</td>\n",
       "      <td>0.266347</td>\n",
       "    </tr>\n",
       "    <tr>\n",
       "      <th>2</th>\n",
       "      <td>-23.16532</td>\n",
       "      <td>0.000744</td>\n",
       "      <td>0.000286</td>\n",
       "      <td>25.0472</td>\n",
       "      <td>0.000011</td>\n",
       "      <td>0.000011</td>\n",
       "      <td>-0.000004</td>\n",
       "      <td>-0.000004</td>\n",
       "      <td>0.384338</td>\n",
       "    </tr>\n",
       "    <tr>\n",
       "      <th>3</th>\n",
       "      <td>-23.14552</td>\n",
       "      <td>0.000750</td>\n",
       "      <td>0.000375</td>\n",
       "      <td>24.4884</td>\n",
       "      <td>0.000013</td>\n",
       "      <td>0.000013</td>\n",
       "      <td>-0.000004</td>\n",
       "      <td>-0.000004</td>\n",
       "      <td>0.499536</td>\n",
       "    </tr>\n",
       "    <tr>\n",
       "      <th>4</th>\n",
       "      <td>-23.12582</td>\n",
       "      <td>0.000759</td>\n",
       "      <td>0.000464</td>\n",
       "      <td>24.0427</td>\n",
       "      <td>0.000014</td>\n",
       "      <td>0.000014</td>\n",
       "      <td>-0.000004</td>\n",
       "      <td>-0.000004</td>\n",
       "      <td>0.611479</td>\n",
       "    </tr>\n",
       "    <tr>\n",
       "      <th>...</th>\n",
       "      <td>...</td>\n",
       "      <td>...</td>\n",
       "      <td>...</td>\n",
       "      <td>...</td>\n",
       "      <td>...</td>\n",
       "      <td>...</td>\n",
       "      <td>...</td>\n",
       "      <td>...</td>\n",
       "      <td>...</td>\n",
       "    </tr>\n",
       "    <tr>\n",
       "      <th>3997</th>\n",
       "      <td>23.12582</td>\n",
       "      <td>0.000759</td>\n",
       "      <td>-0.000464</td>\n",
       "      <td>24.0427</td>\n",
       "      <td>0.000014</td>\n",
       "      <td>0.000014</td>\n",
       "      <td>0.000004</td>\n",
       "      <td>0.000004</td>\n",
       "      <td>-0.611479</td>\n",
       "    </tr>\n",
       "    <tr>\n",
       "      <th>3998</th>\n",
       "      <td>23.14552</td>\n",
       "      <td>0.000750</td>\n",
       "      <td>-0.000375</td>\n",
       "      <td>24.4884</td>\n",
       "      <td>0.000013</td>\n",
       "      <td>0.000013</td>\n",
       "      <td>0.000004</td>\n",
       "      <td>0.000004</td>\n",
       "      <td>-0.499536</td>\n",
       "    </tr>\n",
       "    <tr>\n",
       "      <th>3999</th>\n",
       "      <td>23.16532</td>\n",
       "      <td>0.000744</td>\n",
       "      <td>-0.000286</td>\n",
       "      <td>25.0472</td>\n",
       "      <td>0.000011</td>\n",
       "      <td>0.000011</td>\n",
       "      <td>0.000004</td>\n",
       "      <td>0.000004</td>\n",
       "      <td>-0.384338</td>\n",
       "    </tr>\n",
       "    <tr>\n",
       "      <th>4000</th>\n",
       "      <td>23.18512</td>\n",
       "      <td>0.000739</td>\n",
       "      <td>-0.000197</td>\n",
       "      <td>25.8076</td>\n",
       "      <td>0.000009</td>\n",
       "      <td>0.000009</td>\n",
       "      <td>0.000004</td>\n",
       "      <td>0.000004</td>\n",
       "      <td>-0.266347</td>\n",
       "    </tr>\n",
       "    <tr>\n",
       "      <th>4001</th>\n",
       "      <td>23.20492</td>\n",
       "      <td>0.000736</td>\n",
       "      <td>-0.000108</td>\n",
       "      <td>27.0268</td>\n",
       "      <td>0.000005</td>\n",
       "      <td>0.000005</td>\n",
       "      <td>0.000004</td>\n",
       "      <td>0.000004</td>\n",
       "      <td>-0.146138</td>\n",
       "    </tr>\n",
       "  </tbody>\n",
       "</table>\n",
       "<p>4002 rows × 9 columns</p>\n",
       "</div>"
      ]
     },
     "execution_count": 162,
     "metadata": {},
     "output_type": "execute_result"
    }
   ],
   "execution_count": 162
  },
  {
   "metadata": {
    "ExecuteTime": {
     "end_time": "2024-10-22T17:12:13.233583Z",
     "start_time": "2024-10-22T17:12:12.742244Z"
    }
   },
   "cell_type": "code",
   "source": [
    "_, ax = plt.subplots()\n",
    "ax.set_ylabel(r\"$\\frac{H}{H_0}$\", rotation=0)\n",
    "ax.set_xlabel(r\"$(t-t_0)H_0$\")\n",
    "sns.lineplot(df_bIX_merged_a, x='x', y='da/a', ax=ax, label='Bianchi IX')\n",
    "sns.lineplot(df_bV_upside_a, x='x', y='da/a', ax=ax, label='Bianchi V')\n",
    "sns.lineplot(df_bI_upside_from_bV, x='x', y='da/a', ax=ax, label='Bianchi I')\n",
    "ax.legend()\n",
    "plt.ylim([0, 5])\n",
    "plt.xlim([0, 10])"
   ],
   "id": "4708ee6aae71aaf8",
   "outputs": [
    {
     "data": {
      "text/plain": [
       "(0.0, 10.0)"
      ]
     },
     "execution_count": 180,
     "metadata": {},
     "output_type": "execute_result"
    },
    {
     "data": {
      "text/plain": [
       "<Figure size 640x480 with 1 Axes>"
      ],
      "image/png": "[encoded data removed]"
     },
     "metadata": {},
     "output_type": "display_data"
    }
   ],
   "execution_count": 180
  },
  {
   "metadata": {
    "ExecuteTime": {
     "end_time": "2024-10-22T17:04:10.415684Z",
     "start_time": "2024-10-22T17:04:10.412301Z"
    }
   },
   "cell_type": "code",
   "source": [
    "df_bIX_merged_a['dbp_squared'] = df_bIX_merged_a['dbp'] ** 2 \n",
    "df_bIX_merged_a['dbm_squared'] = df_bIX_merged_a['dbm'] ** 2\n",
    "df_bIX_merged_a['s_squared'] = df_bIX_merged_a['dbp_squared'] + df_bIX_merged_a['dbm_squared']\n",
    "df_bIX_merged_a['s'] = df_bIX_merged_a['s_squared'].apply(lambda x: math.sqrt(x))\n",
    "df_bIX_merged_a['s*1000'] = df_bIX_merged_a['s'] * 5.0 * 1e5"
   ],
   "id": "90aec39b21fd592",
   "outputs": [],
   "execution_count": 164
  },
  {
   "metadata": {
    "ExecuteTime": {
     "end_time": "2024-10-22T17:11:34.788308Z",
     "start_time": "2024-10-22T17:11:34.134878Z"
    }
   },
   "cell_type": "code",
   "source": [
    "fig, ax = plt.subplots()\n",
    "sns.lineplot(df_bIX_merged_a, x='x', y='s', label='Bianchi IX')\n",
    "sns.lineplot(df_bV_upside_a, x='x', y='s', label='Bianchi V')\n",
    "sns.lineplot(df_bI_upside_a_from_bV, x='x', y='s', label='Bianchi I')\n",
    "ax.legend()\n",
    "plt.ylim([-0.01*1e-5, 0.5*1e-5])\n",
    "plt.xlim([-0.01, 4])\n",
    "ax.set_ylabel(r\"$s$\", rotation=0)\n",
    "ax.set_xlabel(r\"$(t-t_0)H_0$\")"
   ],
   "id": "22636b5cd924013a",
   "outputs": [
    {
     "data": {
      "text/plain": [
       "Text(0.5, 0, '$(t-t_0)H_0$')"
      ]
     },
     "execution_count": 179,
     "metadata": {},
     "output_type": "execute_result"
    },
    {
     "data": {
      "text/plain": [
       "<Figure size 640x480 with 1 Axes>"
      ],
      "image/png": "[encoded data removed]"
     },
     "metadata": {},
     "output_type": "display_data"
    }
   ],
   "execution_count": 179
  },
  {
   "metadata": {
    "ExecuteTime": {
     "end_time": "2024-10-22T17:14:01.510848Z",
     "start_time": "2024-10-22T17:14:00.864076Z"
    }
   },
   "cell_type": "code",
   "source": [
    "fig, ax = plt.subplots()\n",
    "sns.lineplot(df_bIX_upside_a, x='x', y='da/a', ax=ax, label=r'$\\frac{H}{H_0}$')\n",
    "sns.lineplot(df_bIX_merged_a, x='x', y='s*1000', ax=ax, label=r'$s \\cdot 5.0 \\cdot 1e5$')\n",
    "ax.legend()\n",
    "plt.ylim([-0.01, 3])\n",
    "plt.xlim([-0.01, 10])\n",
    "ax.set_ylabel(r\"$$\", rotation=0, visible=False)\n",
    "ax.set_xlabel(r\"$(t-t_0)H_0$\")"
   ],
   "id": "84f09d91a4f28397",
   "outputs": [
    {
     "data": {
      "text/plain": [
       "Text(0.5, 0, '$(t-t_0)H_0$')"
      ]
     },
     "execution_count": 182,
     "metadata": {},
     "output_type": "execute_result"
    },
    {
     "data": {
      "text/plain": [
       "<Figure size 640x480 with 1 Axes>"
      ],
      "image/png": "[encoded data removed]"
     },
     "metadata": {},
     "output_type": "display_data"
    }
   ],
   "execution_count": 182
  },
  {
   "metadata": {
    "ExecuteTime": {
     "end_time": "2024-10-22T17:04:11.538495Z",
     "start_time": "2024-10-22T17:04:11.536200Z"
    }
   },
   "cell_type": "code",
   "source": "df_bV_upside_a['s*1000'] = df_bV_upside_a['s'] * 5.0 * 1e5",
   "id": "d2fd346648eea923",
   "outputs": [],
   "execution_count": 167
  },
  {
   "metadata": {
    "ExecuteTime": {
     "end_time": "2024-10-22T17:14:52.012321Z",
     "start_time": "2024-10-22T17:14:51.914411Z"
    }
   },
   "cell_type": "code",
   "source": [
    "fig, ax = plt.subplots()\n",
    "sns.lineplot(df_bV_upside_a, x='x', y='da/a', ax=ax, label=r'$\\frac{H}{H_0}$')\n",
    "sns.lineplot(df_bV_upside_a, x='x', y='s*1000', ax=ax, label=r'$s \\cdot 5.0 \\cdot 1e5$')\n",
    "ax.legend()\n",
    "plt.ylim([-0.01, 3])\n",
    "plt.xlim([-0.01, 10])\n",
    "ax.set_ylabel(r\"$$\", rotation=0, visible=False)\n",
    "ax.set_xlabel(r\"$(t-t_0)H_0$\")"
   ],
   "id": "8f2e0fa3961b2be2",
   "outputs": [
    {
     "data": {
      "text/plain": [
       "Text(0.5, 0, '$(t-t_0)H_0$')"
      ]
     },
     "execution_count": 183,
     "metadata": {},
     "output_type": "execute_result"
    },
    {
     "data": {
      "text/plain": [
       "<Figure size 640x480 with 1 Axes>"
      ],
      "image/png": "[encoded data removed]"
     },
     "metadata": {},
     "output_type": "display_data"
    }
   ],
   "execution_count": 183
  },
  {
   "metadata": {
    "ExecuteTime": {
     "end_time": "2024-10-22T17:04:11.634589Z",
     "start_time": "2024-10-22T17:04:11.632162Z"
    }
   },
   "cell_type": "code",
   "source": "df_bI_upside_a_from_bV['s*1000'] = df_bI_upside_a_from_bV['s'] * 5.0 * 1e5",
   "id": "b5ccaa7a05cc6c73",
   "outputs": [],
   "execution_count": 169
  },
  {
   "metadata": {
    "ExecuteTime": {
     "end_time": "2024-10-22T17:15:16.654281Z",
     "start_time": "2024-10-22T17:15:16.552456Z"
    }
   },
   "cell_type": "code",
   "source": [
    "fig, ax = plt.subplots()\n",
    "sns.lineplot(df_bI_upside_a_from_bV, x='x', y='da/a', ax=ax, label=r'$\\frac{H}{H_0}$')\n",
    "sns.lineplot(df_bI_upside_a_from_bV, x='x', y='s*1000', ax=ax, label=r'$s \\cdot 5.0 \\cdot 1e5$')\n",
    "ax.legend()\n",
    "plt.ylim([-0.01, 3])\n",
    "plt.xlim([-0.01, 10])\n",
    "ax.set_ylabel(r\"$$\", rotation=0, visible=False)\n",
    "ax.set_xlabel(r\"$(t-t_0)H_0$\")"
   ],
   "id": "467d44b76f3eca2c",
   "outputs": [
    {
     "data": {
      "text/plain": [
       "Text(0.5, 0, '$(t-t_0)H_0$')"
      ]
     },
     "execution_count": 184,
     "metadata": {},
     "output_type": "execute_result"
    },
    {
     "data": {
      "text/plain": [
       "<Figure size 640x480 with 1 Axes>"
      ],
      "image/png": "[encoded data removed]"
     },
     "metadata": {},
     "output_type": "display_data"
    }
   ],
   "execution_count": 184
  },
  {
   "metadata": {
    "ExecuteTime": {
     "end_time": "2024-10-22T17:04:11.729277Z",
     "start_time": "2024-10-22T17:04:11.728144Z"
    }
   },
   "cell_type": "code",
   "source": "",
   "id": "ef967a3501a7a31",
   "outputs": [],
   "execution_count": 170
  }
 ],
 "metadata": {
  "kernelspec": {
   "display_name": "Python 3",
   "language": "python",
   "name": "python3"
  },
  "language_info": {
   "codemirror_mode": {
    "name": "ipython",
    "version": 2
   },
   "file_extension": ".py",
   "mimetype": "text/x-python",
   "name": "python",
   "nbconvert_exporter": "python",
   "pygments_lexer": "ipython2",
   "version": "2.7.6"
  }
 },
 "nbformat": 4,
 "nbformat_minor": 5
}
